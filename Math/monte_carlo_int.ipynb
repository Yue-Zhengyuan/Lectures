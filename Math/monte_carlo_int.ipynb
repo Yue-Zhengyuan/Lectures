{
 "cells": [
  {
   "cell_type": "code",
   "execution_count": 1,
   "metadata": {},
   "outputs": [],
   "source": [
    "# fundamental package for data storage and scientific computing\n",
    "import numpy as np\n",
    "# package for numerical integration\n",
    "import scipy.integrate as integrate\n",
    "# combinatorial number\n",
    "from scipy.special import comb"
   ]
  },
  {
   "cell_type": "code",
   "execution_count": 2,
   "metadata": {},
   "outputs": [],
   "source": [
    "# package for drawing figures\n",
    "import matplotlib.pyplot as plt\n",
    "from matplotlib.patches import Polygon, Rectangle\n",
    "from matplotlib.ticker import MultipleLocator\n",
    "plt.style.use('default')\n",
    "# plt.style.use('dark_background')\n",
    "%config InlineBackend.figure_format = 'pdf'"
   ]
  },
  {
   "cell_type": "code",
   "execution_count": 3,
   "metadata": {},
   "outputs": [
    {
     "data": {
      "text/plain": [
       "2.220446049250313e-16"
      ]
     },
     "execution_count": 3,
     "metadata": {},
     "output_type": "execute_result"
    }
   ],
   "source": [
    "# machine precision\n",
    "prec = np.finfo(float).eps\n",
    "prec"
   ]
  },
  {
   "cell_type": "markdown",
   "metadata": {},
   "source": [
    "# The Integration Process"
   ]
  },
  {
   "cell_type": "markdown",
   "metadata": {},
   "source": [
    "Suppose we want to integrate $f(x) = \\sqrt{1 - x^2}$ from $x = -1/2$ to $x = 1$. We have deliberately chosen a function which is always non-negative on the integration range to avoid complications."
   ]
  },
  {
   "cell_type": "code",
   "execution_count": 4,
   "metadata": {},
   "outputs": [],
   "source": [
    "# function to be graphed\n",
    "def func(x):\n",
    "    return np.sqrt(1 - x**2)\n",
    "# integration limits\n",
    "a, b = -1/2, 1"
   ]
  },
  {
   "cell_type": "markdown",
   "metadata": {},
   "source": [
    "Let us first see the correct answer with scipy:"
   ]
  },
  {
   "cell_type": "code",
   "execution_count": 5,
   "metadata": {},
   "outputs": [
    {
     "data": {
      "text/plain": [
       "(1.2637039021427077, 2.435300849867872e-10)"
      ]
     },
     "execution_count": 5,
     "metadata": {},
     "output_type": "execute_result"
    }
   ],
   "source": [
    "# returns integration result and estimated error\n",
    "ans, err = integrate.quad(func, a, b)\n",
    "ans, err"
   ]
  },
  {
   "cell_type": "code",
   "execution_count": 6,
   "metadata": {
    "jupyter": {
     "source_hidden": true
    }
   },
   "outputs": [
    {
     "data": {
      "application/pdf": "[encoded data removed]",
      "text/plain": [
       "<Figure size 640x480 with 1 Axes>"
      ]
     },
     "metadata": {},
     "output_type": "display_data"
    }
   ],
   "source": [
    "# x coordinates to be drawn (from -1 to 2.5, 100 points)\n",
    "x = np.linspace(-1, 1, 100)\n",
    "# y coordinates to be draw\n",
    "y = func(x)\n",
    "\n",
    "# create canvas for drawing\n",
    "fig, ax = plt.subplots()\n",
    "\n",
    "# adjust coordinate axes to make figure beautiful\n",
    "ax.set_ylim(bottom=-0.15, top=1.4)\n",
    "ax.set_xlim(left=-1.2, right=1.2)\n",
    "ax.set_aspect(1)\n",
    "\n",
    "# axes go through origin\n",
    "ax.spines['left'].set_position('zero')\n",
    "ax.spines['bottom'].set_position('zero')\n",
    "# turn off unnecessary axes\n",
    "ax.spines['right'].set_visible(False)\n",
    "ax.spines['top'].set_visible(False)\n",
    "\n",
    "ax.yaxis.set_major_locator(MultipleLocator(0.5))\n",
    "ax.set_xticks((a, b))\n",
    "# ax.set_xticklabels(('$a$', '$b$'), fontsize=14)\n",
    "ax.tick_params(axis='both', which='major', labelsize=12)\n",
    "\n",
    "# plot the function\n",
    "ax.plot(x, y, 'r', linewidth=2, label=r'$\\sqrt{1-x^2}$')\n",
    "# show legend\n",
    "ax.legend(loc='upper right', fontsize=14)\n",
    "\n",
    "# Make the shaded region\n",
    "ix = np.linspace(a, b)\n",
    "iy = func(ix)\n",
    "verts = [(a, 0), *zip(ix, iy), (b, 0)]\n",
    "poly = Polygon(verts, facecolor='0.5', edgecolor='0')\n",
    "# add the shaded region to the figure\n",
    "ax.add_artist(poly)\n",
    "\n",
    "# the sampling region\n",
    "fa, fb = func(a), func(b)\n",
    "samppoly = Rectangle((-1,0), 2, 1, facecolor='cornflowerblue', edgecolor='blue', alpha=0.5)\n",
    "ax.add_artist(samppoly)\n",
    "\n",
    "# text annotation\n",
    "ax.text(0.3, 0.3, r\"$\\int_a^b f(x)\\mathrm{d}x$\",\n",
    "        horizontalalignment='center', fontsize=14)\n",
    "ax.annotate(\"Sampling\\nRegion\", \n",
    "            xy=(-0.6, 1.0), xytext=(-0.8, 1.2),\n",
    "            arrowprops=dict(arrowstyle='->', color='blue'),\n",
    "            color='blue', horizontalalignment='center', fontsize=14)\n",
    "\n",
    "ax.text(1.15, 0.05, '$x$', fontsize=14)\n",
    "ax.text(0.1, 1.2, '$y$', fontsize=14)\n",
    "\n",
    "plt.show()"
   ]
  },
  {
   "cell_type": "markdown",
   "metadata": {},
   "source": [
    "We create a **sampling region** whose area is already known. The region should cover the whole area under the curve. For simplicity, we choose the blue rectangle shown in the figure, whose area $A$ is just $2 \\times 1 = 2$. Then we just randomly choose a point in the rectangle, and judge whether it is in the area under the curve within the integration range $[a, b]$. \n",
    "\n",
    "The integration result is given by\n",
    "\n",
    "$$\n",
    "\\int_a^b f(x) dx\n",
    "= \\frac{X}{N} \\times A\n",
    "$$\n",
    "\n",
    "where\n",
    "\n",
    "$$\n",
    "\\begin{aligned}\n",
    "    X &: \\text{Number of points under the curve}\n",
    "    \\\\\n",
    "    N &: \\text{Total number of sample points}\n",
    "    \\\\\n",
    "    A &: \\text{Area of sampling region}\n",
    "\\end{aligned}\n",
    "$$\n",
    "\n",
    "with the assumption that $f(x) \\ge 0$ for all $x \\in [a,b]$. This method of integration is usually inefficient for one-variable functions, but shows its advantage when evaluating higher dimensional integrations. "
   ]
  },
  {
   "cell_type": "markdown",
   "metadata": {},
   "source": [
    "# Estimating the Error"
   ]
  },
  {
   "cell_type": "markdown",
   "metadata": {},
   "source": [
    "The process of randomly select a point and check whether it is under the curve is a sequence of $N$ **independent experiments** with only two results: the point is under the curve (\"success\") or not. The exact probability of success is given by\n",
    "\n",
    "$$\n",
    "p = \\frac{1}{A} \\int_a^b f(x) dx \\approx \\frac{X}{N}\n",
    "$$\n",
    "\n",
    "Therefore, the number of times of success (which is just $X$) follows the **binomial distribution**, denoted by\n",
    "\n",
    "$$\n",
    "X \\sim B(N,p)\n",
    "$$\n",
    "\n",
    "From the theory of binomial distribution (which you should have learned in high school), the standard deviation of $X$ is given by\n",
    "\n",
    "$$\n",
    "\\sigma(X) = \\langle (X - \\langle X \\rangle)^2 \\rangle ^ {1/2}\n",
    "= \\sqrt{N p (1 - p)}\n",
    "$$\n",
    "\n",
    "where the notation $\\langle \\, \\rangle$ means taking the average value. Then the standard deviation of the integration result is \n",
    "\n",
    "$$\n",
    "\\sigma(I) = \\sigma(X) \\times \\frac{A}{N} \n",
    "= \\sqrt{\\frac{p (1-p)}{N}} A\n",
    "\\propto \\frac{1}{\\sqrt{N}}\n",
    "$$\n",
    "\n",
    "Now we obtain the important result that **the error of result goes down as $1/\\sqrt{N}$**. This decay of error as $N$ becomes larger happens frequently in real life experiments. When estimating the error of calculation, we can just set $p$ to the experimental result (instead of the theoretical exact value)."
   ]
  },
  {
   "cell_type": "markdown",
   "metadata": {},
   "source": [
    "# Code for Monte Carlo Integration"
   ]
  },
  {
   "cell_type": "code",
   "execution_count": 7,
   "metadata": {},
   "outputs": [],
   "source": [
    "def in_area(pt):\n",
    "    \"\"\"Judge whether the point `pt` is under the curve\"\"\"\n",
    "    if a <= pt[0] <= b and 0 <= pt[1] <= func(pt[0]):\n",
    "        return True\n",
    "    else:\n",
    "        return False"
   ]
  },
  {
   "cell_type": "code",
   "execution_count": 8,
   "metadata": {},
   "outputs": [
    {
     "data": {
      "text/plain": [
       "(1.263426, 0.030489841894205606, 1.2637039021427077)"
      ]
     },
     "execution_count": 8,
     "metadata": {},
     "output_type": "execute_result"
    }
   ],
   "source": [
    "# number of points to be picked\n",
    "n_pt = 1000\n",
    "# area of the sampling region\n",
    "samparea = 2\n",
    "# run the sampling for 100 times to accumulate result\n",
    "results, errs = [], []\n",
    "n_run = 1000\n",
    "for i in range(n_run):\n",
    "    # randomly generate point in the rectangle\n",
    "    pts_x = np.random.uniform(-1, 1 + prec, n_pt)\n",
    "    pts_y = np.random.uniform(0, 1 + prec, n_pt)\n",
    "    # and count how many points are in the area under the curve\n",
    "    counter = 0\n",
    "    # the function `zip` helps us iterate `pts_x`, `pts_y` simutaneously\n",
    "    for x, y in zip(pts_x, pts_y):\n",
    "        if in_area((x,y)):\n",
    "            counter += 1\n",
    "    # the integration result\n",
    "    p = counter / n_pt\n",
    "    result = p * samparea\n",
    "    # error for each run\n",
    "    err = np.sqrt(p * (1-p) / (n_pt)) * samparea\n",
    "    # add result to result list\n",
    "    results.append(result)\n",
    "    errs.append(err)\n",
    "# free memory used by pts_x, pts_y after calculation is done\n",
    "del pts_x, pts_y \n",
    "# print average result and estimated error, and compare to answer\n",
    "result = np.average(results)\n",
    "err = np.average(errs)\n",
    "result, err, ans"
   ]
  },
  {
   "cell_type": "markdown",
   "metadata": {},
   "source": [
    "# Comparison with the Exact Binomial Distribution"
   ]
  },
  {
   "cell_type": "markdown",
   "metadata": {},
   "source": [
    "The random variable $X$ follows the binomial distribution; this means that the probability that $X = k$ is given by \n",
    "\n",
    "$$\n",
    "\\operatorname{Pr}(X = k) = C_N^k p^k (1-p)^{N-k}, \\quad\n",
    "C_N^k = \\frac{N!}{k!(N-k)!}\n",
    "$$\n",
    "\n",
    "Then the probability that $X$ falls in the range $[k_1, k_2]$ is just a simple sum:\n",
    "\n",
    "$$\n",
    "\\operatorname{Pr}(k_1 \\le X \\le k_2) = \\sum_{k=k_1}^{k_2} \\operatorname{Pr}(X = k)\n",
    "$$\n",
    "\n",
    "Using this probability, we can check whether our numerical experiment agrees with the binomial distribution. The expected count that $X$ falls in the range $[k_1, k_2]$ is just \n",
    "\n",
    "$$\n",
    "N \\times \\operatorname{Pr}(k_1 \\le X \\le k_2)\n",
    "$$\n",
    "\n",
    "which can further be converted to the count that the integration result falls in the range\n",
    "\n",
    "$$\n",
    "\\left[\n",
    "    \\frac{k_1}{N} A, \\, \\frac{k_2}{N} A\n",
    "\\right]\n",
    "$$"
   ]
  },
  {
   "cell_type": "code",
   "execution_count": 9,
   "metadata": {},
   "outputs": [
    {
     "data": {
      "text/plain": [
       "0.6318519510713538"
      ]
     },
     "execution_count": 9,
     "metadata": {},
     "output_type": "execute_result"
    }
   ],
   "source": [
    "# exact value of p\n",
    "p_exact = ans / samparea\n",
    "p_exact"
   ]
  },
  {
   "cell_type": "code",
   "execution_count": 10,
   "metadata": {},
   "outputs": [],
   "source": [
    "def pr_binom(k):\n",
    "    \"\"\"Calculate the binomial probability Pr(X = k)\"\"\"\n",
    "    return comb(n_run, k) * p_exact**k * (1-p_exact)**(n_run-k)"
   ]
  },
  {
   "cell_type": "code",
   "execution_count": 11,
   "metadata": {},
   "outputs": [],
   "source": [
    "n_bins = 15\n",
    "bins = np.linspace(result-3*err, result+3*err, n_bins+1)\n",
    "counts = []\n",
    "means = []\n",
    "# calculate the prediction of binomial distribution\n",
    "for i in range(len(bins) - 1):\n",
    "    means.append(np.average(bins[i:i+2]))\n",
    "    # convert integration result to value of X\n",
    "    k1 = bins[i] * n_pt / samparea\n",
    "    k2 = bins[i+1] * n_pt / samparea\n",
    "    prob = np.sum([pr_binom(k) for k in range(int(np.ceil(k1)), int(np.ceil(k2)))])\n",
    "    counts.append(prob * n_pt)"
   ]
  },
  {
   "cell_type": "code",
   "execution_count": 12,
   "metadata": {},
   "outputs": [
    {
     "data": {
      "text/plain": [
       "<matplotlib.legend.Legend at 0x7f8d956f8f90>"
      ]
     },
     "execution_count": 12,
     "metadata": {},
     "output_type": "execute_result"
    },
    {
     "data": {
      "application/pdf": "[encoded data removed]",
      "text/plain": [
       "<Figure size 640x480 with 1 Axes>"
      ]
     },
     "metadata": {},
     "output_type": "display_data"
    }
   ],
   "source": [
    "# visualize the distribution of integration result\n",
    "fig2, ax2 = plt.subplots()\n",
    "# experiment result\n",
    "ax2.hist(results, bins=n_bins, range=(min(bins), max(bins)), label='Experiment Result')\n",
    "# binomial distribution prediction\n",
    "ax2.plot(means, counts, marker='.', markersize=12, label=r'$B(N,p)$ Prediction')\n",
    "ax2.set_xticks(bins)\n",
    "plt.xticks(rotation=-45)\n",
    "ax2.set_xlabel(r'Integration Result $\\frac{XA}{N}$')\n",
    "ax2.set_ylabel('Counts')\n",
    "ax2.legend(loc='upper right')"
   ]
  },
  {
   "cell_type": "code",
   "execution_count": null,
   "metadata": {},
   "outputs": [],
   "source": []
  }
 ],
 "metadata": {
  "kernelspec": {
   "display_name": "Python 3",
   "language": "python",
   "name": "python3"
  },
  "language_info": {
   "codemirror_mode": {
    "name": "ipython",
    "version": 3
   },
   "file_extension": ".py",
   "mimetype": "text/x-python",
   "name": "python",
   "nbconvert_exporter": "python",
   "pygments_lexer": "ipython3",
   "version": "3.7.5"
  },
  "title": "Integration by Random Sampling"
 },
 "nbformat": 4,
 "nbformat_minor": 4
}
